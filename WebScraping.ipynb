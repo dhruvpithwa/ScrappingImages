{
  "nbformat": 4,
  "nbformat_minor": 0,
  "metadata": {
    "colab": {
      "name": "WebScraping.ipynb",
      "provenance": [],
      "collapsed_sections": []
    },
    "kernelspec": {
      "name": "python3",
      "display_name": "Python 3"
    }
  },
  "cells": [
    {
      "cell_type": "code",
      "metadata": {
        "id": "ZIlbTsXa0AbQ",
        "colab_type": "code",
        "colab": {}
      },
      "source": [
        "from bs4 import BeautifulSoup\n",
        "from urllib.request import urlopen\n",
        "import urllib.request\n",
        "import re\n",
        "\n",
        "unmask=0\n",
        "mask=0"
      ],
      "execution_count": 53,
      "outputs": []
    },
    {
      "cell_type": "code",
      "metadata": {
        "id": "uitYLIp55UnH",
        "colab_type": "code",
        "colab": {
          "base_uri": "https://localhost:8080/",
          "height": 34
        },
        "outputId": "e618166c-403c-42c2-e6cc-717b20f0edb7"
      },
      "source": [
        "#Finding images of unmask people\n",
        "urlUnmask = [\"https://www.freeimages.com/search/human-face\",\"https://www.gettyimages.in/photos/human-face?mediatype=photography&phrase=human%20face&sort=mostpopular\"]\n",
        "  \n",
        "for url in urlUnmask:\n",
        "  page = urlopen(url)\n",
        "  html = page.read().decode(\"utf-8\")\n",
        "  soup = BeautifulSoup(html, \"html.parser\")\n",
        "  soup=soup.find_all('img', {'src': re.compile(r'face|man')})\n",
        "\n",
        "  for i in soup:\n",
        "    try:\n",
        "      s=\"./unmask/unmask\"+str(unmask)+\".jpg\"\n",
        "      urllib.request.urlretrieve(str(i[\"src\"]),s)\n",
        "      unmask=unmask+1\n",
        "    except:\n",
        "      print(\"Not Found\")\n",
        "  \n",
        "\n"
      ],
      "execution_count": null,
      "outputs": [
        {
          "output_type": "stream",
          "text": [
            "Not Found\n"
          ],
          "name": "stdout"
        }
      ]
    },
    {
      "cell_type": "code",
      "metadata": {
        "id": "x9tHKK-2pPYE",
        "colab_type": "code",
        "colab": {
          "base_uri": "https://localhost:8080/",
          "height": 1000
        },
        "outputId": "473ca31a-73bf-4930-a9ec-c4ba42dcef59"
      },
      "source": [
        "!zip -r ./unmask.zip ./unmask"
      ],
      "execution_count": null,
      "outputs": [
        {
          "output_type": "stream",
          "text": [
            "  adding: unmask/ (stored 0%)\n",
            "  adding: unmask/unmask71.jpg (deflated 6%)\n",
            "  adding: unmask/unmask16.jpg (deflated 0%)\n",
            "  adding: unmask/unmask22.jpg (deflated 2%)\n",
            "  adding: unmask/unmask41.jpg (deflated 6%)\n",
            "  adding: unmask/unmask40.jpg (deflated 13%)\n",
            "  adding: unmask/unmask12.jpg (deflated 4%)\n",
            "  adding: unmask/unmask50.jpg (deflated 9%)\n",
            "  adding: unmask/unmask68.jpg (deflated 4%)\n",
            "  adding: unmask/unmask48.jpg (deflated 2%)\n",
            "  adding: unmask/unmask77.jpg (deflated 4%)\n",
            "  adding: unmask/unmask15.jpg (deflated 0%)\n",
            "  adding: unmask/unmask59.jpg (deflated 3%)\n",
            "  adding: unmask/unmask32.jpg (deflated 3%)\n",
            "  adding: unmask/unmask64.jpg (deflated 3%)\n",
            "  adding: unmask/unmask36.jpg (deflated 13%)\n",
            "  adding: unmask/unmask14.jpg (deflated 0%)\n",
            "  adding: unmask/unmask65.jpg (deflated 7%)\n",
            "  adding: unmask/unmask1.jpg (deflated 10%)\n",
            "  adding: unmask/unmask75.jpg (deflated 9%)\n",
            "  adding: unmask/unmask28.jpg (deflated 0%)\n",
            "  adding: unmask/unmask61.jpg (deflated 8%)\n",
            "  adding: unmask/unmask69.jpg (deflated 7%)\n",
            "  adding: unmask/unmask46.jpg (deflated 8%)\n",
            "  adding: unmask/unmask80.jpg (deflated 15%)\n",
            "  adding: unmask/unmask44.jpg (deflated 4%)\n",
            "  adding: unmask/unmask26.jpg (deflated 5%)\n",
            "  adding: unmask/unmask72.jpg (deflated 9%)\n",
            "  adding: unmask/unmask31.jpg (deflated 2%)\n",
            "  adding: unmask/unmask4.jpg (deflated 5%)\n",
            "  adding: unmask/unmask21.jpg (deflated 0%)\n",
            "  adding: unmask/unmask25.jpg (deflated 0%)\n",
            "  adding: unmask/unmask55.jpg (deflated 7%)\n",
            "  adding: unmask/unmask74.jpg (deflated 11%)\n",
            "  adding: unmask/unmask37.jpg (deflated 20%)\n",
            "  adding: unmask/unmask78.jpg (deflated 3%)\n",
            "  adding: unmask/unmask66.jpg (deflated 6%)\n",
            "  adding: unmask/unmask11.jpg (deflated 4%)\n",
            "  adding: unmask/unmask0.jpg (deflated 11%)\n",
            "  adding: unmask/unmask9.jpg (deflated 2%)\n",
            "  adding: unmask/unmask33.jpg (deflated 4%)\n",
            "  adding: unmask/unmask67.jpg (deflated 8%)\n",
            "  adding: unmask/unmask51.jpg (deflated 8%)\n",
            "  adding: unmask/unmask70.jpg (deflated 3%)\n",
            "  adding: unmask/unmask5.jpg (deflated 4%)\n",
            "  adding: unmask/unmask3.jpg (deflated 6%)\n",
            "  adding: unmask/unmask23.jpg (deflated 4%)\n",
            "  adding: unmask/unmask45.jpg (deflated 4%)\n",
            "  adding: unmask/unmask56.jpg (deflated 3%)\n",
            "  adding: unmask/unmask53.jpg (deflated 9%)\n",
            "  adding: unmask/unmask62.jpg (deflated 9%)\n",
            "  adding: unmask/unmask19.jpg (deflated 5%)\n",
            "  adding: unmask/unmask30.jpg (stored 0%)\n",
            "  adding: unmask/unmask10.jpg (deflated 3%)\n",
            "  adding: unmask/unmask2.jpg (deflated 5%)\n",
            "  adding: unmask/unmask27.jpg (deflated 1%)\n",
            "  adding: unmask/unmask52.jpg (deflated 2%)\n",
            "  adding: unmask/unmask47.jpg (deflated 12%)\n",
            "  adding: unmask/unmask54.jpg (deflated 5%)\n",
            "  adding: unmask/unmask58.jpg (deflated 2%)\n",
            "  adding: unmask/unmask49.jpg (deflated 3%)\n",
            "  adding: unmask/unmask76.jpg (deflated 2%)\n",
            "  adding: unmask/unmask43.jpg (deflated 12%)\n",
            "  adding: unmask/unmask6.jpg (deflated 4%)\n",
            "  adding: unmask/unmask24.jpg (deflated 0%)\n",
            "  adding: unmask/unmask39.jpg (deflated 6%)\n",
            "  adding: unmask/unmask13.jpg (deflated 0%)\n",
            "  adding: unmask/unmask7.jpg (deflated 7%)\n",
            "  adding: unmask/unmask60.jpg (deflated 7%)\n",
            "  adding: unmask/unmask20.jpg (deflated 2%)\n",
            "  adding: unmask/unmask29.jpg (deflated 1%)\n",
            "  adding: unmask/unmask57.jpg (deflated 3%)\n",
            "  adding: unmask/unmask35.jpg (deflated 5%)\n",
            "  adding: unmask/unmask34.jpg (deflated 4%)\n",
            "  adding: unmask/unmask63.jpg (deflated 5%)\n",
            "  adding: unmask/unmask18.jpg (deflated 2%)\n",
            "  adding: unmask/unmask79.jpg (deflated 4%)\n",
            "  adding: unmask/unmask42.jpg (deflated 3%)\n",
            "  adding: unmask/unmask8.jpg (deflated 5%)\n",
            "  adding: unmask/unmask17.jpg (deflated 0%)\n",
            "  adding: unmask/unmask38.jpg (deflated 7%)\n",
            "  adding: unmask/unmask73.jpg (deflated 7%)\n"
          ],
          "name": "stdout"
        }
      ]
    },
    {
      "cell_type": "code",
      "metadata": {
        "id": "Xk5Q_Z_8qa9G",
        "colab_type": "code",
        "colab": {}
      },
      "source": [
        "#Finding images of people wearing mask\n",
        "urlMask = [\"https://www.shutterstock.com/search/people+wearing+mask\",\"https://www.freepik.com/free-photos-vectors/wearing-mask\"]\n",
        "  \n",
        "for url in urlMask:\n",
        "  page = urlopen(url)\n",
        "  html = page.read().decode(\"utf-8\")\n",
        "  soup = BeautifulSoup(html, \"html.parser\")\n",
        "  soup=soup.find_all('img', {'src': re.compile(r'face|man')})\n",
        "\n",
        "  for i in soup:\n",
        "    try:\n",
        "      s=\"./mask/mask\"+str(mask)+\".jpg\"\n",
        "      urllib.request.urlretrieve(str(i[\"src\"]),s)\n",
        "      mask=mask+1\n",
        "    except:\n",
        "      print(\"Not Found\")\n",
        "  \n",
        "\n"
      ],
      "execution_count": 54,
      "outputs": []
    },
    {
      "cell_type": "code",
      "metadata": {
        "id": "PzCIcaM65yw8",
        "colab_type": "code",
        "colab": {
          "base_uri": "https://localhost:8080/",
          "height": 706
        },
        "outputId": "9c150146-a93d-4256-f4a1-4233ceff9b1a"
      },
      "source": [
        "!zip -r ./mask.zip ./mask"
      ],
      "execution_count": 55,
      "outputs": [
        {
          "output_type": "stream",
          "text": [
            "  adding: mask/ (stored 0%)\n",
            "  adding: mask/mask16.jpg (deflated 4%)\n",
            "  adding: mask/mask21.jpg (deflated 3%)\n",
            "  adding: mask/mask22.jpg (deflated 1%)\n",
            "  adding: mask/mask6.jpg (deflated 2%)\n",
            "  adding: mask/mask35.jpg (deflated 1%)\n",
            "  adding: mask/mask17.jpg (deflated 1%)\n",
            "  adding: mask/mask36.jpg (deflated 0%)\n",
            "  adding: mask/mask30.jpg (deflated 1%)\n",
            "  adding: mask/mask2.jpg (deflated 3%)\n",
            "  adding: mask/mask12.jpg (deflated 2%)\n",
            "  adding: mask/mask4.jpg (deflated 1%)\n",
            "  adding: mask/mask15.jpg (deflated 1%)\n",
            "  adding: mask/mask13.jpg (deflated 1%)\n",
            "  adding: mask/mask34.jpg (deflated 0%)\n",
            "  adding: mask/mask38.jpg (deflated 1%)\n",
            "  adding: mask/mask25.jpg (deflated 0%)\n",
            "  adding: mask/mask19.jpg (deflated 1%)\n",
            "  adding: mask/mask1.jpg (deflated 1%)\n",
            "  adding: mask/mask27.jpg (deflated 0%)\n",
            "  adding: mask/mask31.jpg (deflated 1%)\n",
            "  adding: mask/mask0.jpg (deflated 2%)\n",
            "  adding: mask/mask20.jpg (deflated 2%)\n",
            "  adding: mask/mask32.jpg (deflated 0%)\n",
            "  adding: mask/mask10.jpg (deflated 8%)\n",
            "  adding: mask/mask9.jpg (deflated 3%)\n",
            "  adding: mask/mask3.jpg (deflated 1%)\n",
            "  adding: mask/mask28.jpg (deflated 2%)\n",
            "  adding: mask/mask24.jpg (deflated 1%)\n",
            "  adding: mask/mask23.jpg (deflated 1%)\n",
            "  adding: mask/mask29.jpg (deflated 0%)\n",
            "  adding: mask/mask14.jpg (deflated 7%)\n",
            "  adding: mask/mask33.jpg (deflated 1%)\n",
            "  adding: mask/mask7.jpg (deflated 9%)\n",
            "  adding: mask/mask11.jpg (deflated 1%)\n",
            "  adding: mask/mask26.jpg (deflated 1%)\n",
            "  adding: mask/mask37.jpg (deflated 0%)\n",
            "  adding: mask/mask5.jpg (deflated 1%)\n",
            "  adding: mask/mask18.jpg (deflated 1%)\n",
            "  adding: mask/mask39.jpg (deflated 25%)\n",
            "  adding: mask/mask8.jpg (deflated 2%)\n"
          ],
          "name": "stdout"
        }
      ]
    },
    {
      "cell_type": "code",
      "metadata": {
        "id": "_eAWw5V96bY7",
        "colab_type": "code",
        "colab": {}
      },
      "source": [
        ""
      ],
      "execution_count": null,
      "outputs": []
    }
  ]
}